{
 "cells": [
  {
   "cell_type": "markdown",
   "metadata": {},
   "source": [
    "# importance of influences factors\n",
    "<br> I will use a random forest model to rank the importance of these demograohic and socia-ecnomic factors in terms of their impacts on people's happiness"
   ]
  },
  {
   "cell_type": "markdown",
   "metadata": {
    "heading_collapsed": true
   },
   "source": [
    "## import lib"
   ]
  },
  {
   "cell_type": "code",
   "execution_count": 49,
   "metadata": {
    "hidden": true
   },
   "outputs": [],
   "source": [
    "import pandas as pd\n",
    "import numpy as np\n",
    "\n",
    "#model\n",
    "from sklearn.ensemble import RandomForestRegressor\n",
    "from sklearn.tree import DecisionTreeRegressor\n",
    "\n",
    "#model selection\n",
    "from sklearn.pipeline import Pipeline\n",
    "from sklearn.model_selection import GridSearchCV\n",
    "from sklearn.model_selection import KFold\n",
    "from sklearn.model_selection import cross_val_score\n",
    "\n",
    "#memory\n",
    "import gc\n",
    "import dill\n",
    "import io"
   ]
  },
  {
   "cell_type": "code",
   "execution_count": 2,
   "metadata": {
    "hidden": true
   },
   "outputs": [],
   "source": [
    "%matplotlib inline\n",
    "import matplotlib\n",
    "import matplotlib.pyplot as plt\n",
    "import seaborn as sns\n",
    "sns.set()\n",
    "matplotlib.rcParams['figure.dpi'] = 144"
   ]
  },
  {
   "cell_type": "markdown",
   "metadata": {
    "heading_collapsed": true
   },
   "source": [
    "## 1. load data\n",
    "<br> missing value rows are removed\n",
    "<br> 36 features and 1 response\n",
    "<br> all features are numerical (float)"
   ]
  },
  {
   "cell_type": "code",
   "execution_count": 23,
   "metadata": {
    "hidden": true
   },
   "outputs": [],
   "source": [
    "df=pd.read_csv('../data/df.csv')"
   ]
  },
  {
   "cell_type": "code",
   "execution_count": 24,
   "metadata": {
    "hidden": true
   },
   "outputs": [
    {
     "data": {
      "text/html": [
       "<div>\n",
       "<style scoped>\n",
       "    .dataframe tbody tr th:only-of-type {\n",
       "        vertical-align: middle;\n",
       "    }\n",
       "\n",
       "    .dataframe tbody tr th {\n",
       "        vertical-align: top;\n",
       "    }\n",
       "\n",
       "    .dataframe thead th {\n",
       "        text-align: right;\n",
       "    }\n",
       "</style>\n",
       "<table border=\"1\" class=\"dataframe\">\n",
       "  <thead>\n",
       "    <tr style=\"text-align: right;\">\n",
       "      <th></th>\n",
       "      <th>state_county</th>\n",
       "      <th>sentiment</th>\n",
       "      <th>State</th>\n",
       "      <th>County</th>\n",
       "      <th>TotalPop</th>\n",
       "      <th>Men</th>\n",
       "      <th>Women</th>\n",
       "      <th>Hispanic</th>\n",
       "      <th>White</th>\n",
       "      <th>Black</th>\n",
       "      <th>...</th>\n",
       "      <th>PrivateWork</th>\n",
       "      <th>PublicWork</th>\n",
       "      <th>SelfEmployed</th>\n",
       "      <th>FamilyWork</th>\n",
       "      <th>Unemployment</th>\n",
       "      <th>Code</th>\n",
       "      <th>frac_high_school_lower</th>\n",
       "      <th>frac_high_school</th>\n",
       "      <th>frac_college</th>\n",
       "      <th>frac_bachelor_or_higher</th>\n",
       "    </tr>\n",
       "  </thead>\n",
       "  <tbody>\n",
       "    <tr>\n",
       "      <th>0</th>\n",
       "      <td>45001.0</td>\n",
       "      <td>0.075153</td>\n",
       "      <td>South Carolina</td>\n",
       "      <td>Abbeville County</td>\n",
       "      <td>24997.0</td>\n",
       "      <td>12308.0</td>\n",
       "      <td>12689.0</td>\n",
       "      <td>1.2</td>\n",
       "      <td>68.9</td>\n",
       "      <td>27.9</td>\n",
       "      <td>...</td>\n",
       "      <td>80.2</td>\n",
       "      <td>13.5</td>\n",
       "      <td>6.2</td>\n",
       "      <td>0.0</td>\n",
       "      <td>10.7</td>\n",
       "      <td>45001</td>\n",
       "      <td>21.9</td>\n",
       "      <td>37.5</td>\n",
       "      <td>28.3</td>\n",
       "      <td>12.3</td>\n",
       "    </tr>\n",
       "    <tr>\n",
       "      <th>1</th>\n",
       "      <td>22001.0</td>\n",
       "      <td>0.076139</td>\n",
       "      <td>Louisiana</td>\n",
       "      <td>Acadia Parish</td>\n",
       "      <td>62163.0</td>\n",
       "      <td>30023.0</td>\n",
       "      <td>32140.0</td>\n",
       "      <td>2.1</td>\n",
       "      <td>77.7</td>\n",
       "      <td>17.4</td>\n",
       "      <td>...</td>\n",
       "      <td>82.4</td>\n",
       "      <td>10.6</td>\n",
       "      <td>7.0</td>\n",
       "      <td>0.0</td>\n",
       "      <td>10.1</td>\n",
       "      <td>22001</td>\n",
       "      <td>26.2</td>\n",
       "      <td>39.2</td>\n",
       "      <td>24.1</td>\n",
       "      <td>10.5</td>\n",
       "    </tr>\n",
       "    <tr>\n",
       "      <th>2</th>\n",
       "      <td>51001.0</td>\n",
       "      <td>0.076547</td>\n",
       "      <td>Virginia</td>\n",
       "      <td>Accomack County</td>\n",
       "      <td>33115.0</td>\n",
       "      <td>16117.0</td>\n",
       "      <td>16998.0</td>\n",
       "      <td>8.8</td>\n",
       "      <td>60.9</td>\n",
       "      <td>28.6</td>\n",
       "      <td>...</td>\n",
       "      <td>73.2</td>\n",
       "      <td>18.6</td>\n",
       "      <td>7.7</td>\n",
       "      <td>0.5</td>\n",
       "      <td>6.8</td>\n",
       "      <td>51001</td>\n",
       "      <td>19.7</td>\n",
       "      <td>39.9</td>\n",
       "      <td>21.7</td>\n",
       "      <td>18.8</td>\n",
       "    </tr>\n",
       "    <tr>\n",
       "      <th>3</th>\n",
       "      <td>16001.0</td>\n",
       "      <td>0.080676</td>\n",
       "      <td>Idaho</td>\n",
       "      <td>Ada County</td>\n",
       "      <td>417501.0</td>\n",
       "      <td>208879.0</td>\n",
       "      <td>208622.0</td>\n",
       "      <td>7.6</td>\n",
       "      <td>85.5</td>\n",
       "      <td>1.1</td>\n",
       "      <td>...</td>\n",
       "      <td>77.2</td>\n",
       "      <td>15.8</td>\n",
       "      <td>6.9</td>\n",
       "      <td>0.1</td>\n",
       "      <td>6.6</td>\n",
       "      <td>16001</td>\n",
       "      <td>5.8</td>\n",
       "      <td>21.4</td>\n",
       "      <td>35.8</td>\n",
       "      <td>37.1</td>\n",
       "    </tr>\n",
       "    <tr>\n",
       "      <th>4</th>\n",
       "      <td>19001.0</td>\n",
       "      <td>0.244170</td>\n",
       "      <td>Iowa</td>\n",
       "      <td>Adair County</td>\n",
       "      <td>7426.0</td>\n",
       "      <td>3667.0</td>\n",
       "      <td>3759.0</td>\n",
       "      <td>1.5</td>\n",
       "      <td>97.2</td>\n",
       "      <td>0.4</td>\n",
       "      <td>...</td>\n",
       "      <td>73.6</td>\n",
       "      <td>15.6</td>\n",
       "      <td>10.6</td>\n",
       "      <td>0.1</td>\n",
       "      <td>3.2</td>\n",
       "      <td>19001</td>\n",
       "      <td>7.5</td>\n",
       "      <td>44.7</td>\n",
       "      <td>32.5</td>\n",
       "      <td>15.3</td>\n",
       "    </tr>\n",
       "  </tbody>\n",
       "</table>\n",
       "<p>5 rows × 41 columns</p>\n",
       "</div>"
      ],
      "text/plain": [
       "   state_county  sentiment           State            County  TotalPop  \\\n",
       "0       45001.0   0.075153  South Carolina  Abbeville County   24997.0   \n",
       "1       22001.0   0.076139       Louisiana     Acadia Parish   62163.0   \n",
       "2       51001.0   0.076547        Virginia   Accomack County   33115.0   \n",
       "3       16001.0   0.080676           Idaho        Ada County  417501.0   \n",
       "4       19001.0   0.244170            Iowa      Adair County    7426.0   \n",
       "\n",
       "        Men     Women  Hispanic  White  Black           ...             \\\n",
       "0   12308.0   12689.0       1.2   68.9   27.9           ...              \n",
       "1   30023.0   32140.0       2.1   77.7   17.4           ...              \n",
       "2   16117.0   16998.0       8.8   60.9   28.6           ...              \n",
       "3  208879.0  208622.0       7.6   85.5    1.1           ...              \n",
       "4    3667.0    3759.0       1.5   97.2    0.4           ...              \n",
       "\n",
       "   PrivateWork  PublicWork  SelfEmployed  FamilyWork  Unemployment   Code  \\\n",
       "0         80.2        13.5           6.2         0.0          10.7  45001   \n",
       "1         82.4        10.6           7.0         0.0          10.1  22001   \n",
       "2         73.2        18.6           7.7         0.5           6.8  51001   \n",
       "3         77.2        15.8           6.9         0.1           6.6  16001   \n",
       "4         73.6        15.6          10.6         0.1           3.2  19001   \n",
       "\n",
       "   frac_high_school_lower  frac_high_school  frac_college  \\\n",
       "0                    21.9              37.5          28.3   \n",
       "1                    26.2              39.2          24.1   \n",
       "2                    19.7              39.9          21.7   \n",
       "3                     5.8              21.4          35.8   \n",
       "4                     7.5              44.7          32.5   \n",
       "\n",
       "   frac_bachelor_or_higher  \n",
       "0                     12.3  \n",
       "1                     10.5  \n",
       "2                     18.8  \n",
       "3                     37.1  \n",
       "4                     15.3  \n",
       "\n",
       "[5 rows x 41 columns]"
      ]
     },
     "execution_count": 24,
     "metadata": {},
     "output_type": "execute_result"
    }
   ],
   "source": [
    "df.head()"
   ]
  },
  {
   "cell_type": "code",
   "execution_count": 25,
   "metadata": {
    "hidden": true
   },
   "outputs": [
    {
     "data": {
      "text/html": [
       "<div>\n",
       "<style scoped>\n",
       "    .dataframe tbody tr th:only-of-type {\n",
       "        vertical-align: middle;\n",
       "    }\n",
       "\n",
       "    .dataframe tbody tr th {\n",
       "        vertical-align: top;\n",
       "    }\n",
       "\n",
       "    .dataframe thead th {\n",
       "        text-align: right;\n",
       "    }\n",
       "</style>\n",
       "<table border=\"1\" class=\"dataframe\">\n",
       "  <thead>\n",
       "    <tr style=\"text-align: right;\">\n",
       "      <th></th>\n",
       "      <th>state_county</th>\n",
       "      <th>sentiment</th>\n",
       "      <th>State</th>\n",
       "      <th>County</th>\n",
       "      <th>TotalPop</th>\n",
       "      <th>Men</th>\n",
       "      <th>Women</th>\n",
       "      <th>Hispanic</th>\n",
       "      <th>White</th>\n",
       "      <th>Black</th>\n",
       "      <th>...</th>\n",
       "      <th>PrivateWork</th>\n",
       "      <th>PublicWork</th>\n",
       "      <th>SelfEmployed</th>\n",
       "      <th>FamilyWork</th>\n",
       "      <th>Unemployment</th>\n",
       "      <th>Code</th>\n",
       "      <th>frac_high_school_lower</th>\n",
       "      <th>frac_high_school</th>\n",
       "      <th>frac_college</th>\n",
       "      <th>frac_bachelor_or_higher</th>\n",
       "    </tr>\n",
       "  </thead>\n",
       "  <tbody>\n",
       "    <tr>\n",
       "      <th>36</th>\n",
       "      <td>18000.0</td>\n",
       "      <td>0.078191</td>\n",
       "      <td>NaN</td>\n",
       "      <td>NaN</td>\n",
       "      <td>NaN</td>\n",
       "      <td>NaN</td>\n",
       "      <td>NaN</td>\n",
       "      <td>NaN</td>\n",
       "      <td>NaN</td>\n",
       "      <td>NaN</td>\n",
       "      <td>...</td>\n",
       "      <td>NaN</td>\n",
       "      <td>NaN</td>\n",
       "      <td>NaN</td>\n",
       "      <td>NaN</td>\n",
       "      <td>NaN</td>\n",
       "      <td>18000</td>\n",
       "      <td>12.2</td>\n",
       "      <td>34.6</td>\n",
       "      <td>29.1</td>\n",
       "      <td>24.1</td>\n",
       "    </tr>\n",
       "    <tr>\n",
       "      <th>37</th>\n",
       "      <td>21000.0</td>\n",
       "      <td>0.078191</td>\n",
       "      <td>NaN</td>\n",
       "      <td>NaN</td>\n",
       "      <td>NaN</td>\n",
       "      <td>NaN</td>\n",
       "      <td>NaN</td>\n",
       "      <td>NaN</td>\n",
       "      <td>NaN</td>\n",
       "      <td>NaN</td>\n",
       "      <td>...</td>\n",
       "      <td>NaN</td>\n",
       "      <td>NaN</td>\n",
       "      <td>NaN</td>\n",
       "      <td>NaN</td>\n",
       "      <td>NaN</td>\n",
       "      <td>21000</td>\n",
       "      <td>15.8</td>\n",
       "      <td>33.6</td>\n",
       "      <td>28.2</td>\n",
       "      <td>22.3</td>\n",
       "    </tr>\n",
       "    <tr>\n",
       "      <th>38</th>\n",
       "      <td>22000.0</td>\n",
       "      <td>0.078191</td>\n",
       "      <td>NaN</td>\n",
       "      <td>NaN</td>\n",
       "      <td>NaN</td>\n",
       "      <td>NaN</td>\n",
       "      <td>NaN</td>\n",
       "      <td>NaN</td>\n",
       "      <td>NaN</td>\n",
       "      <td>NaN</td>\n",
       "      <td>...</td>\n",
       "      <td>NaN</td>\n",
       "      <td>NaN</td>\n",
       "      <td>NaN</td>\n",
       "      <td>NaN</td>\n",
       "      <td>NaN</td>\n",
       "      <td>22000</td>\n",
       "      <td>16.6</td>\n",
       "      <td>33.9</td>\n",
       "      <td>26.9</td>\n",
       "      <td>22.5</td>\n",
       "    </tr>\n",
       "    <tr>\n",
       "      <th>40</th>\n",
       "      <td>27000.0</td>\n",
       "      <td>0.078191</td>\n",
       "      <td>NaN</td>\n",
       "      <td>NaN</td>\n",
       "      <td>NaN</td>\n",
       "      <td>NaN</td>\n",
       "      <td>NaN</td>\n",
       "      <td>NaN</td>\n",
       "      <td>NaN</td>\n",
       "      <td>NaN</td>\n",
       "      <td>...</td>\n",
       "      <td>NaN</td>\n",
       "      <td>NaN</td>\n",
       "      <td>NaN</td>\n",
       "      <td>NaN</td>\n",
       "      <td>NaN</td>\n",
       "      <td>27000</td>\n",
       "      <td>7.6</td>\n",
       "      <td>26.1</td>\n",
       "      <td>32.7</td>\n",
       "      <td>33.7</td>\n",
       "    </tr>\n",
       "    <tr>\n",
       "      <th>41</th>\n",
       "      <td>29000.0</td>\n",
       "      <td>0.078191</td>\n",
       "      <td>NaN</td>\n",
       "      <td>NaN</td>\n",
       "      <td>NaN</td>\n",
       "      <td>NaN</td>\n",
       "      <td>NaN</td>\n",
       "      <td>NaN</td>\n",
       "      <td>NaN</td>\n",
       "      <td>NaN</td>\n",
       "      <td>...</td>\n",
       "      <td>NaN</td>\n",
       "      <td>NaN</td>\n",
       "      <td>NaN</td>\n",
       "      <td>NaN</td>\n",
       "      <td>NaN</td>\n",
       "      <td>29000</td>\n",
       "      <td>11.6</td>\n",
       "      <td>31.3</td>\n",
       "      <td>30.0</td>\n",
       "      <td>27.1</td>\n",
       "    </tr>\n",
       "    <tr>\n",
       "      <th>43</th>\n",
       "      <td>46000.0</td>\n",
       "      <td>0.078191</td>\n",
       "      <td>NaN</td>\n",
       "      <td>NaN</td>\n",
       "      <td>NaN</td>\n",
       "      <td>NaN</td>\n",
       "      <td>NaN</td>\n",
       "      <td>NaN</td>\n",
       "      <td>NaN</td>\n",
       "      <td>NaN</td>\n",
       "      <td>...</td>\n",
       "      <td>NaN</td>\n",
       "      <td>NaN</td>\n",
       "      <td>NaN</td>\n",
       "      <td>NaN</td>\n",
       "      <td>NaN</td>\n",
       "      <td>46000</td>\n",
       "      <td>9.1</td>\n",
       "      <td>31.3</td>\n",
       "      <td>32.6</td>\n",
       "      <td>27.0</td>\n",
       "    </tr>\n",
       "    <tr>\n",
       "      <th>45</th>\n",
       "      <td>51000.0</td>\n",
       "      <td>0.078191</td>\n",
       "      <td>NaN</td>\n",
       "      <td>NaN</td>\n",
       "      <td>NaN</td>\n",
       "      <td>NaN</td>\n",
       "      <td>NaN</td>\n",
       "      <td>NaN</td>\n",
       "      <td>NaN</td>\n",
       "      <td>NaN</td>\n",
       "      <td>...</td>\n",
       "      <td>NaN</td>\n",
       "      <td>NaN</td>\n",
       "      <td>NaN</td>\n",
       "      <td>NaN</td>\n",
       "      <td>NaN</td>\n",
       "      <td>51000</td>\n",
       "      <td>11.7</td>\n",
       "      <td>24.8</td>\n",
       "      <td>27.2</td>\n",
       "      <td>36.3</td>\n",
       "    </tr>\n",
       "    <tr>\n",
       "      <th>128</th>\n",
       "      <td>24000.0</td>\n",
       "      <td>0.071675</td>\n",
       "      <td>NaN</td>\n",
       "      <td>NaN</td>\n",
       "      <td>NaN</td>\n",
       "      <td>NaN</td>\n",
       "      <td>NaN</td>\n",
       "      <td>NaN</td>\n",
       "      <td>NaN</td>\n",
       "      <td>NaN</td>\n",
       "      <td>...</td>\n",
       "      <td>NaN</td>\n",
       "      <td>NaN</td>\n",
       "      <td>NaN</td>\n",
       "      <td>NaN</td>\n",
       "      <td>NaN</td>\n",
       "      <td>24000</td>\n",
       "      <td>10.6</td>\n",
       "      <td>25.5</td>\n",
       "      <td>25.9</td>\n",
       "      <td>37.9</td>\n",
       "    </tr>\n",
       "    <tr>\n",
       "      <th>173</th>\n",
       "      <td>19000.0</td>\n",
       "      <td>0.068342</td>\n",
       "      <td>NaN</td>\n",
       "      <td>NaN</td>\n",
       "      <td>NaN</td>\n",
       "      <td>NaN</td>\n",
       "      <td>NaN</td>\n",
       "      <td>NaN</td>\n",
       "      <td>NaN</td>\n",
       "      <td>NaN</td>\n",
       "      <td>...</td>\n",
       "      <td>NaN</td>\n",
       "      <td>NaN</td>\n",
       "      <td>NaN</td>\n",
       "      <td>NaN</td>\n",
       "      <td>NaN</td>\n",
       "      <td>19000</td>\n",
       "      <td>8.5</td>\n",
       "      <td>32.2</td>\n",
       "      <td>32.6</td>\n",
       "      <td>26.7</td>\n",
       "    </tr>\n",
       "    <tr>\n",
       "      <th>175</th>\n",
       "      <td>39000.0</td>\n",
       "      <td>0.068342</td>\n",
       "      <td>NaN</td>\n",
       "      <td>NaN</td>\n",
       "      <td>NaN</td>\n",
       "      <td>NaN</td>\n",
       "      <td>NaN</td>\n",
       "      <td>NaN</td>\n",
       "      <td>NaN</td>\n",
       "      <td>NaN</td>\n",
       "      <td>...</td>\n",
       "      <td>NaN</td>\n",
       "      <td>NaN</td>\n",
       "      <td>NaN</td>\n",
       "      <td>NaN</td>\n",
       "      <td>NaN</td>\n",
       "      <td>39000</td>\n",
       "      <td>10.9</td>\n",
       "      <td>34.1</td>\n",
       "      <td>28.9</td>\n",
       "      <td>26.1</td>\n",
       "    </tr>\n",
       "    <tr>\n",
       "      <th>176</th>\n",
       "      <td>48000.0</td>\n",
       "      <td>0.068342</td>\n",
       "      <td>NaN</td>\n",
       "      <td>NaN</td>\n",
       "      <td>NaN</td>\n",
       "      <td>NaN</td>\n",
       "      <td>NaN</td>\n",
       "      <td>NaN</td>\n",
       "      <td>NaN</td>\n",
       "      <td>NaN</td>\n",
       "      <td>...</td>\n",
       "      <td>NaN</td>\n",
       "      <td>NaN</td>\n",
       "      <td>NaN</td>\n",
       "      <td>NaN</td>\n",
       "      <td>NaN</td>\n",
       "      <td>48000</td>\n",
       "      <td>18.1</td>\n",
       "      <td>25.2</td>\n",
       "      <td>29.2</td>\n",
       "      <td>27.6</td>\n",
       "    </tr>\n",
       "    <tr>\n",
       "      <th>280</th>\n",
       "      <td>9000.0</td>\n",
       "      <td>0.085542</td>\n",
       "      <td>NaN</td>\n",
       "      <td>NaN</td>\n",
       "      <td>NaN</td>\n",
       "      <td>NaN</td>\n",
       "      <td>NaN</td>\n",
       "      <td>NaN</td>\n",
       "      <td>NaN</td>\n",
       "      <td>NaN</td>\n",
       "      <td>...</td>\n",
       "      <td>NaN</td>\n",
       "      <td>NaN</td>\n",
       "      <td>NaN</td>\n",
       "      <td>NaN</td>\n",
       "      <td>NaN</td>\n",
       "      <td>9000</td>\n",
       "      <td>10.1</td>\n",
       "      <td>27.4</td>\n",
       "      <td>24.9</td>\n",
       "      <td>37.6</td>\n",
       "    </tr>\n",
       "    <tr>\n",
       "      <th>281</th>\n",
       "      <td>12000.0</td>\n",
       "      <td>0.085542</td>\n",
       "      <td>NaN</td>\n",
       "      <td>NaN</td>\n",
       "      <td>NaN</td>\n",
       "      <td>NaN</td>\n",
       "      <td>NaN</td>\n",
       "      <td>NaN</td>\n",
       "      <td>NaN</td>\n",
       "      <td>NaN</td>\n",
       "      <td>...</td>\n",
       "      <td>NaN</td>\n",
       "      <td>NaN</td>\n",
       "      <td>NaN</td>\n",
       "      <td>NaN</td>\n",
       "      <td>NaN</td>\n",
       "      <td>12000</td>\n",
       "      <td>13.1</td>\n",
       "      <td>29.5</td>\n",
       "      <td>30.1</td>\n",
       "      <td>27.3</td>\n",
       "    </tr>\n",
       "    <tr>\n",
       "      <th>283</th>\n",
       "      <td>47000.0</td>\n",
       "      <td>0.085542</td>\n",
       "      <td>NaN</td>\n",
       "      <td>NaN</td>\n",
       "      <td>NaN</td>\n",
       "      <td>NaN</td>\n",
       "      <td>NaN</td>\n",
       "      <td>NaN</td>\n",
       "      <td>NaN</td>\n",
       "      <td>NaN</td>\n",
       "      <td>...</td>\n",
       "      <td>NaN</td>\n",
       "      <td>NaN</td>\n",
       "      <td>NaN</td>\n",
       "      <td>NaN</td>\n",
       "      <td>NaN</td>\n",
       "      <td>47000</td>\n",
       "      <td>14.5</td>\n",
       "      <td>33.0</td>\n",
       "      <td>27.5</td>\n",
       "      <td>24.9</td>\n",
       "    </tr>\n",
       "    <tr>\n",
       "      <th>314</th>\n",
       "      <td>13000.0</td>\n",
       "      <td>0.083998</td>\n",
       "      <td>NaN</td>\n",
       "      <td>NaN</td>\n",
       "      <td>NaN</td>\n",
       "      <td>NaN</td>\n",
       "      <td>NaN</td>\n",
       "      <td>NaN</td>\n",
       "      <td>NaN</td>\n",
       "      <td>NaN</td>\n",
       "      <td>...</td>\n",
       "      <td>NaN</td>\n",
       "      <td>NaN</td>\n",
       "      <td>NaN</td>\n",
       "      <td>NaN</td>\n",
       "      <td>NaN</td>\n",
       "      <td>13000</td>\n",
       "      <td>14.6</td>\n",
       "      <td>28.4</td>\n",
       "      <td>28.2</td>\n",
       "      <td>28.8</td>\n",
       "    </tr>\n",
       "    <tr>\n",
       "      <th>418</th>\n",
       "      <td>32000.0</td>\n",
       "      <td>0.077367</td>\n",
       "      <td>NaN</td>\n",
       "      <td>NaN</td>\n",
       "      <td>NaN</td>\n",
       "      <td>NaN</td>\n",
       "      <td>NaN</td>\n",
       "      <td>NaN</td>\n",
       "      <td>NaN</td>\n",
       "      <td>NaN</td>\n",
       "      <td>...</td>\n",
       "      <td>NaN</td>\n",
       "      <td>NaN</td>\n",
       "      <td>NaN</td>\n",
       "      <td>NaN</td>\n",
       "      <td>NaN</td>\n",
       "      <td>32000</td>\n",
       "      <td>14.9</td>\n",
       "      <td>28.2</td>\n",
       "      <td>33.8</td>\n",
       "      <td>23.0</td>\n",
       "    </tr>\n",
       "    <tr>\n",
       "      <th>657</th>\n",
       "      <td>53000.0</td>\n",
       "      <td>0.096417</td>\n",
       "      <td>NaN</td>\n",
       "      <td>NaN</td>\n",
       "      <td>NaN</td>\n",
       "      <td>NaN</td>\n",
       "      <td>NaN</td>\n",
       "      <td>NaN</td>\n",
       "      <td>NaN</td>\n",
       "      <td>NaN</td>\n",
       "      <td>...</td>\n",
       "      <td>NaN</td>\n",
       "      <td>NaN</td>\n",
       "      <td>NaN</td>\n",
       "      <td>NaN</td>\n",
       "      <td>NaN</td>\n",
       "      <td>53000</td>\n",
       "      <td>9.6</td>\n",
       "      <td>23.3</td>\n",
       "      <td>34.3</td>\n",
       "      <td>32.9</td>\n",
       "    </tr>\n",
       "    <tr>\n",
       "      <th>724</th>\n",
       "      <td>5000.0</td>\n",
       "      <td>0.080117</td>\n",
       "      <td>NaN</td>\n",
       "      <td>NaN</td>\n",
       "      <td>NaN</td>\n",
       "      <td>NaN</td>\n",
       "      <td>NaN</td>\n",
       "      <td>NaN</td>\n",
       "      <td>NaN</td>\n",
       "      <td>NaN</td>\n",
       "      <td>...</td>\n",
       "      <td>NaN</td>\n",
       "      <td>NaN</td>\n",
       "      <td>NaN</td>\n",
       "      <td>NaN</td>\n",
       "      <td>NaN</td>\n",
       "      <td>5000</td>\n",
       "      <td>15.2</td>\n",
       "      <td>34.9</td>\n",
       "      <td>28.7</td>\n",
       "      <td>21.1</td>\n",
       "    </tr>\n",
       "    <tr>\n",
       "      <th>725</th>\n",
       "      <td>17000.0</td>\n",
       "      <td>0.080117</td>\n",
       "      <td>NaN</td>\n",
       "      <td>NaN</td>\n",
       "      <td>NaN</td>\n",
       "      <td>NaN</td>\n",
       "      <td>NaN</td>\n",
       "      <td>NaN</td>\n",
       "      <td>NaN</td>\n",
       "      <td>NaN</td>\n",
       "      <td>...</td>\n",
       "      <td>NaN</td>\n",
       "      <td>NaN</td>\n",
       "      <td>NaN</td>\n",
       "      <td>NaN</td>\n",
       "      <td>NaN</td>\n",
       "      <td>17000</td>\n",
       "      <td>12.1</td>\n",
       "      <td>26.8</td>\n",
       "      <td>28.8</td>\n",
       "      <td>32.3</td>\n",
       "    </tr>\n",
       "    <tr>\n",
       "      <th>726</th>\n",
       "      <td>20000.0</td>\n",
       "      <td>0.080117</td>\n",
       "      <td>NaN</td>\n",
       "      <td>NaN</td>\n",
       "      <td>NaN</td>\n",
       "      <td>NaN</td>\n",
       "      <td>NaN</td>\n",
       "      <td>NaN</td>\n",
       "      <td>NaN</td>\n",
       "      <td>NaN</td>\n",
       "      <td>...</td>\n",
       "      <td>NaN</td>\n",
       "      <td>NaN</td>\n",
       "      <td>NaN</td>\n",
       "      <td>NaN</td>\n",
       "      <td>NaN</td>\n",
       "      <td>20000</td>\n",
       "      <td>9.8</td>\n",
       "      <td>27.0</td>\n",
       "      <td>32.1</td>\n",
       "      <td>31.0</td>\n",
       "    </tr>\n",
       "    <tr>\n",
       "      <th>986</th>\n",
       "      <td>16000.0</td>\n",
       "      <td>0.066477</td>"
      ],
      "text/plain": [
       "      state_county  sentiment        State                   County  TotalPop  \\\n",
       "36         18000.0   0.078191          NaN                      NaN       NaN   \n",
       "37         21000.0   0.078191          NaN                      NaN       NaN   \n",
       "38         22000.0   0.078191          NaN                      NaN       NaN   \n",
       "40         27000.0   0.078191          NaN                      NaN       NaN   \n",
       "41         29000.0   0.078191          NaN                      NaN       NaN   \n",
       "43         46000.0   0.078191          NaN                      NaN       NaN   \n",
       "45         51000.0   0.078191          NaN                      NaN       NaN   \n",
       "128        24000.0   0.071675          NaN                      NaN       NaN   \n",
       "173        19000.0   0.068342          NaN                      NaN       NaN   \n",
       "175        39000.0   0.068342          NaN                      NaN       NaN   \n",
       "176        48000.0   0.068342          NaN                      NaN       NaN   \n",
       "280         9000.0   0.085542          NaN                      NaN       NaN   \n",
       "281        12000.0   0.085542          NaN                      NaN       NaN   \n",
       "283        47000.0   0.085542          NaN                      NaN       NaN   \n",
       "314        13000.0   0.083998          NaN                      NaN       NaN   \n",
       "418        32000.0   0.077367          NaN                      NaN       NaN   \n",
       "657        53000.0   0.096417          NaN                      NaN       NaN   \n",
       "724         5000.0   0.080117          NaN                      NaN       NaN   \n",
       "725        17000.0   0.080117          NaN                      NaN       NaN   \n",
       "726        20000.0   0.080117          NaN                      NaN       NaN   \n",
       "986        16000.0   0.066477          NaN                      NaN       NaN   \n",
       "987        31000.0   0.066477          NaN                      NaN       NaN   \n",
       "989        33000.0   0.066477          NaN                      NaN       NaN   \n",
       "991        42000.0   0.066477          NaN                      NaN       NaN   \n",
       "994        55000.0   0.066477          NaN                      NaN       NaN   \n",
       "1651       28000.0   0.079923          NaN                      NaN       NaN   \n",
       "1652       37000.0   0.079923          NaN                      NaN       NaN   \n",
       "1653       40000.0   0.079923          NaN                      NaN       NaN   \n",
       "1720       48301.0   0.105810          NaN                      NaN       NaN   \n",
       "2230       26000.0   0.075572          NaN                      NaN       NaN   \n",
       "...            ...        ...          ...                      ...       ...   \n",
       "3227       72097.0        NaN  Puerto Rico       Mayagüez Municipio   83418.0   \n",
       "3228       72099.0        NaN  Puerto Rico           Moca Municipio   38815.0   \n",
       "3229       72101.0        NaN  Puerto Rico        Morovis Municipio   32294.0   \n",
       "3230       72103.0        NaN  Puerto Rico        Naguabo Municipio   26804.0   \n",
       "3231       72105.0        NaN  Puerto Rico      Naranjito Municipio   29751.0   \n",
       "3232       72107.0        NaN  Puerto Rico       Orocovis Municipio   22595.0   \n",
       "3233       72109.0        NaN  Puerto Rico       Patillas Municipio   18441.0   \n",
       "3234       72111.0        NaN  Puerto Rico       Peñuelas Municipio   22770.0   \n",
       "3235       72113.0        NaN  Puerto Rico          Ponce Municipio  156054.0   \n",
       "3236       72115.0        NaN  Puerto Rico   Quebradillas Municipio   25205.0   \n",
       "3237       72117.0        NaN  Puerto Rico         Rincón Municipio   14841.0   \n",
       "3238       72119.0        NaN  Puerto Rico     Río Grande Municipio   53029.0   \n",
       "3239       72121.0        NaN  Puerto Rico  Sabana Grande Municipio   24307.0   \n",
       "3240       72123.0        NaN  Puerto Rico        Salinas Municipio   30114.0   \n",
       "3241       72125.0        NaN  Puerto Rico     San Germán Municipio   34125.0   \n",
       "3242       72127.0        NaN  Puerto Rico       San Juan Municipio  371400.0   \n",
       "3243       72129.0        NaN  Puerto Rico    San Lorenzo Municipio   39778.0   \n",
       "3244       72131.0        NaN  Puerto Rico  San Sebastián Municipio   40471.0   \n",
       "3245       72133.0        NaN  Puerto Rico   Santa Isabel Municipio   22913.0   \n",
       "3246       72135.0        NaN  Puerto Rico       Toa Alta Municipio   74603.0   \n",
       "3247       72137.0        NaN  Puerto Rico       Toa Baja Municipio   85242.0   \n",
       "3248       72139.0        NaN  Puerto Rico  Trujillo Alto Municipio   71886.0   \n",
       "3249       72141.0        NaN  Puerto Rico         Utuado Municipio   31474.0   \n",
       "3250       72143.0        NaN  Puerto Rico      Vega Alta Municipio   39319.0   \n",
       "3251       72145.0        NaN  Puerto Rico      Vega Baja Municipio   56858.0   \n",
       "3252       72147.0        NaN  Puerto Rico        Vieques Municipio    9130.0   \n",
       "3253       72149.0        NaN  Puerto Rico       Villalba Municipio   24685.0   \n",
       "3254       72151.0        NaN  Puerto Rico        Yabucoa Municipio   36279.0   \n",
       "3255       72153.0        NaN  Puerto Rico          Yauco Municipio   39474.0   \n",
       "3256           NaN        NaN          NaN                      NaN       NaN   \n",
       "\n",
       "           Men     Women  Hispanic  White  Black           ...             \\\n",
       "36         NaN       NaN       NaN    NaN    NaN           ...              \n",
       "37         NaN       NaN       NaN    NaN    NaN           ...              \n",
       "38         NaN       NaN       NaN    NaN    NaN           ...              \n",
       "40         NaN       NaN       NaN    NaN    NaN           ...              \n",
       "41         NaN       NaN       NaN    NaN    NaN           ...              \n",
       "43         NaN       NaN       NaN    NaN    NaN           ...              \n",
       "45         NaN       NaN       NaN    NaN    NaN           ...              \n",
       "128        NaN       NaN       NaN    NaN    NaN           ...              \n",
       "173        NaN       NaN       NaN    NaN    NaN           ...              \n",
       "175        NaN       NaN       NaN    NaN    NaN           ...              \n",
       "176        NaN       NaN       NaN    NaN    NaN           ...              \n",
       "280        NaN       NaN       NaN    NaN    NaN           ...              \n",
       "281        NaN       NaN       NaN    NaN    NaN           ...              \n",
       "283        NaN       NaN       NaN    NaN    NaN           ...              \n",
       "314        NaN       NaN       NaN    NaN    NaN           ...              \n",
       "418        NaN       NaN       NaN    NaN    NaN           ...              \n",
       "657        NaN       NaN       NaN    NaN    NaN           ...              \n",
       "724        NaN       NaN       NaN    NaN    NaN           ...              \n",
       "725        NaN       NaN       NaN    NaN    NaN           ...              \n",
       "726        NaN       NaN       NaN    NaN    NaN           ...              \n",
       "986        NaN       NaN       NaN    NaN    NaN           ...              \n",
       "987        NaN       NaN       NaN    NaN    NaN           ...              \n",
       "989        NaN       NaN       NaN    NaN    NaN           ...              \n",
       "991        NaN       NaN       NaN    NaN    NaN           ...              \n",
       "994        NaN       NaN       NaN    NaN    NaN           ...              \n",
       "1651       NaN       NaN       NaN    NaN    NaN           ...              \n",
       "1652       NaN       NaN       NaN    NaN    NaN           ...              \n",
       "1653       NaN       NaN       NaN    NaN    NaN           ...              \n",
       "1720       NaN       NaN       NaN    NaN    NaN           ...              \n",
       "2230       NaN       NaN       NaN    NaN    NaN           ...              \n",
       "...        ...       ...       ...    ...    ...           ...              \n",
       "3227   39978.0   43440.0      99.0    0.7    0.1           ...              \n",
       "3228   19039.0   19776.0      99.2    0.4    0.0           ...              \n",
       "3229   16067.0   16227.0      99.8    0.1    0.0           ...              \n",
       "3230   12733.0   14071.0      99.7    0.1    0.0           ...              \n",
       "3231   14700.0   15051.0      99.6    0.1    0.0           ...              \n",
       "3232   11376.0   11219.0      99.9    0.1    0.0           ...              \n",
       "3233    9075.0    9366.0      99.8    0.1    0.0           ...              \n",
       "3234   11107.0   11663.0      99.3    0.7    0.0           ...              \n",
       "3235   75153.0   80901.0      99.3    0.5    0.1           ...              \n",
       "3236   12258.0   12947.0      99.2    0.5    0.2           ...              \n",
       "3237    7249.0    7592.0      91.0    5.0    0.0           ...              \n",
       "3238   25845.0   27184.0      99.3    0.6    0.1           ...              \n",
       "3239   11536.0   12771.0      99.0    1.0    0.0           ...              \n",
       "3240   14631.0   15483.0      99.3    0.3    0.1           ...              \n",
       "3241   16590.0   17535.0      99.6    0.3    0.1           ...              \n",
       "3242  170416.0  200984.0      98.2    1.2    0.2           ...              \n",
       "3243   19485.0   20293.0      99.8    0.2    0.0           ...              \n",
       "3244   19723.0   20748.0      99.3    0.6    0.0           ...              \n",
       "3245   11085.0   11828.0      99.8    0.2    0.0           ...              \n",
       "3246   36028.0   38575.0      99.4    0.3    0.1           ...              \n",
       "3247   40215.0   45027.0      99.5    0.3    0.1           ...              \n",
       "3248   34036.0   37850.0      99.6    0.4    0.0           ...              \n",
       "3249   15368.0   16106.0      99.6    0.3    0.1           ...              \n",
       "3250   18762.0   20557.0      98.6    1.1    0.0           ...              \n",
       "3251   27379.0   29479.0      96.4    3.4    0.1           ...              \n",
       "3252    4585.0    4545.0      96.7    2.9    0.0           ...              \n",
       "3253   12086.0   12599.0      99.7    0.0    0.0           ...              \n",
       "3254   17648.0   18631.0      99.8    0.2    0.0           ...              \n",
       "3255   19047.0   20427.0      99.5    0.5    0.0           ...              \n",
       "3256       NaN       NaN       NaN    NaN    NaN           ...              \n",
       "\n",
       "      PrivateWork  PublicWork  SelfEmployed  FamilyWork  Unemployment   Code  \\\n",
       "36            NaN         NaN           NaN         NaN           NaN  18000   \n",
       "37            NaN         NaN           Na"
      ]
     },
     "execution_count": 25,
     "metadata": {},
     "output_type": "execute_result"
    },
    {
     "data": {
      "text/html": [
       "<b>limit_output extension: Maximum message size of 10000 exceeded with 29518 characters</b>"
      ]
     },
     "metadata": {},
     "output_type": "display_data"
    }
   ],
   "source": [
    "df.loc[df.isnull().apply(any,axis=1)]"
   ]
  },
  {
   "cell_type": "code",
   "execution_count": 29,
   "metadata": {
    "hidden": true
   },
   "outputs": [],
   "source": [
    "df=df.loc[~df.isnull().apply(any,axis=1)]"
   ]
  },
  {
   "cell_type": "code",
   "execution_count": 30,
   "metadata": {
    "hidden": true
   },
   "outputs": [
    {
     "data": {
      "text/plain": [
       "Index(['state_county', 'sentiment', 'State', 'County', 'TotalPop', 'Men',\n",
       "       'Women', 'Hispanic', 'White', 'Black', 'Native', 'Asian', 'Pacific',\n",
       "       'Citizen', 'Income', 'IncomePerCap', 'Poverty', 'ChildPoverty',\n",
       "       'Professional', 'Service', 'Office', 'Construction', 'Production',\n",
       "       'Drive', 'Carpool', 'Transit', 'Walk', 'OtherTransp', 'WorkAtHome',\n",
       "       'MeanCommute', 'Employed', 'PrivateWork', 'PublicWork', 'SelfEmployed',\n",
       "       'FamilyWork', 'Unemployment', 'Code', 'frac_high_school_lower',\n",
       "       'frac_high_school', 'frac_college', 'frac_bachelor_or_higher'],\n",
       "      dtype='object')"
      ]
     },
     "execution_count": 30,
     "metadata": {},
     "output_type": "execute_result"
    }
   ],
   "source": [
    "df.columns"
   ]
  },
  {
   "cell_type": "code",
   "execution_count": 31,
   "metadata": {
    "hidden": true
   },
   "outputs": [],
   "source": [
    "col_to_keep=['sentiment','TotalPop', 'Men',\n",
    "       'Women', 'Hispanic', 'White', 'Black', 'Native', 'Asian', 'Pacific',\n",
    "       'Citizen', 'Income', 'IncomePerCap', 'Poverty', 'ChildPoverty',\n",
    "       'Professional', 'Service', 'Office', 'Construction', 'Production',\n",
    "       'Drive', 'Carpool', 'Transit', 'Walk', 'OtherTransp', 'WorkAtHome',\n",
    "       'MeanCommute', 'Employed', 'PrivateWork', 'PublicWork', 'SelfEmployed',\n",
    "       'FamilyWork', 'Unemployment', 'frac_high_school_lower',\n",
    "       'frac_high_school', 'frac_college', 'frac_bachelor_or_higher']"
   ]
  },
  {
   "cell_type": "code",
   "execution_count": 32,
   "metadata": {
    "hidden": true
   },
   "outputs": [],
   "source": [
    "df=df[col_to_keep]"
   ]
  },
  {
   "cell_type": "code",
   "execution_count": 33,
   "metadata": {
    "hidden": true
   },
   "outputs": [
    {
     "data": {
      "text/plain": [
       "sentiment                  0\n",
       "TotalPop                   0\n",
       "Men                        0\n",
       "Women                      0\n",
       "Hispanic                   0\n",
       "White                      0\n",
       "Black                      0\n",
       "Native                     0\n",
       "Asian                      0\n",
       "Pacific                    0\n",
       "Citizen                    0\n",
       "Income                     0\n",
       "IncomePerCap               0\n",
       "Poverty                    0\n",
       "ChildPoverty               0\n",
       "Professional               0\n",
       "Service                    0\n",
       "Office                     0\n",
       "Construction               0\n",
       "Production                 0\n",
       "Drive                      0\n",
       "Carpool                    0\n",
       "Transit                    0\n",
       "Walk                       0\n",
       "OtherTransp                0\n",
       "WorkAtHome                 0\n",
       "MeanCommute                0\n",
       "Employed                   0\n",
       "PrivateWork                0\n",
       "PublicWork                 0\n",
       "SelfEmployed               0\n",
       "FamilyWork                 0\n",
       "Unemployment               0\n",
       "frac_high_school_lower     0\n",
       "frac_high_school           0\n",
       "frac_college               0\n",
       "frac_bachelor_or_higher    0\n",
       "dtype: int64"
      ]
     },
     "execution_count": 33,
     "metadata": {},
     "output_type": "execute_result"
    }
   ],
   "source": [
    "df.isnull().sum()"
   ]
  },
  {
   "cell_type": "markdown",
   "metadata": {},
   "source": [
    "## 2. model"
   ]
  },
  {
   "cell_type": "markdown",
   "metadata": {
    "heading_collapsed": true
   },
   "source": [
    "### 2.1 a simple decision tree\n",
    "<br> without tuning hyperparameters like max_depth\n",
    "<br> used \"explained variance\" as the metric\n",
    "<br> ran a k-fold cross validation\n",
    "<br> estimated the train score as 1 and the test score as -1.18 +/- 0.32\n",
    "<br> negative metric value means that the model does not work well on test data\n",
    "<br> the model is severely overfitting\n",
    "<br> thus we need to tune the hyperparameters to combat the overfitting problem"
   ]
  },
  {
   "cell_type": "code",
   "execution_count": 58,
   "metadata": {
    "hidden": true
   },
   "outputs": [],
   "source": [
    "X = df[df.columns[1:]].values\n",
    "y = df['sentiment'].values"
   ]
  },
  {
   "cell_type": "code",
   "execution_count": 60,
   "metadata": {
    "hidden": true
   },
   "outputs": [
    {
     "name": "stdout",
     "output_type": "stream",
     "text": [
      "Est. explained variance for training set: 1.00 (+/- 0.00)\n",
      "Est. explained variance for test set: -1.18 (+/- 0.32)\n"
     ]
    }
   ],
   "source": [
    "dtr_no_tuning=DecisionTreeRegressor(max_depth=None)\n",
    "kf = KFold(n_splits=10, shuffle=True, random_state=None)\n",
    "train_score=[]\n",
    "test_score=[]\n",
    "for train_index, test_index in kf.split(X):\n",
    "    X_train, X_test = X[train_index], X[test_index] \n",
    "    y_train, y_test = y[train_index], y[test_index]\n",
    "    dtr_no_tuning.fit(X_train,y_train)\n",
    "    train_score.append(dtr_no_tuning.score(X_train,y_train))\n",
    "    test_score.append(dtr_no_tuning.score(X_test,y_test))\n",
    "\n",
    "print(\"Est. explained variance for training set: %0.2f (+/- %0.2f)\" % (np.mean(train_score), np.std(train_score)))\n",
    "print(\"Est. explained variance for test set: %0.2f (+/- %0.2f)\" % (np.mean(test_score), np.std(test_score)))"
   ]
  },
  {
   "cell_type": "code",
   "execution_count": null,
   "metadata": {
    "hidden": true
   },
   "outputs": [],
   "source": [
    "#scores_dtr_no_tuning = cross_val_score(dtr_no_tuning, X, y, cv=10,scoring='explained_variance') # 10-fold cross validation\n",
    "#print('scores for k=10 fold validation:',scores_dtr_no_tuning)"
   ]
  },
  {
   "cell_type": "code",
   "execution_count": 61,
   "metadata": {
    "hidden": true
   },
   "outputs": [],
   "source": [
    "dtr_no_tuning.fit(X,y)\n",
    "y_pred=dtr_no_tuning.predict(X)"
   ]
  },
  {
   "cell_type": "code",
   "execution_count": 62,
   "metadata": {
    "hidden": true
   },
   "outputs": [
    {
     "data": {
      "text/plain": [
       "<matplotlib.collections.PathCollection at 0x1a233cc8d0>"
      ]
     },
     "execution_count": 62,
     "metadata": {},
     "output_type": "execute_result"
    },
    {
     "data": {
      "image/png": "[encoded data removed]",
      "text/plain": [
       "<Figure size 432x288 with 1 Axes>"
      ]
     },
     "metadata": {},
     "output_type": "display_data"
    }
   ],
   "source": [
    "plt.scatter(y,y_pred)"
   ]
  },
  {
   "cell_type": "code",
   "execution_count": 63,
   "metadata": {
    "hidden": true
   },
   "outputs": [
    {
     "data": {
      "text/plain": [
       "(-0.001, 0.001)"
      ]
     },
     "execution_count": 63,
     "metadata": {},
     "output_type": "execute_result"
    },
    {
     "data": {
      "image/png": "[encoded data removed]",
      "text/plain": [
       "<Figure size 432x288 with 1 Axes>"
      ]
     },
     "metadata": {},
     "output_type": "display_data"
    }
   ],
   "source": [
    "plt.scatter(y_pred,y_pred-y)\n",
    "plt.ylim(-0.001,0.001)"
   ]
  },
  {
   "cell_type": "markdown",
   "metadata": {},
   "source": [
    "### 2.2 a decision tree regressor with tuned hyperparameter\n",
    "<br> only manupulated max_depth\n",
    "<br> used GridSearchCV to find the best max_depth, which is 1\n",
    "<br> the best decision tree regressor is a very weak learner\n",
    "<br> both training and testing scores are 0.03\n",
    "<br> severe underfitting\n",
    "<br> indicating that the features are not adequate to predict happiness score"
   ]
  },
  {
   "cell_type": "code",
   "execution_count": 84,
   "metadata": {},
   "outputs": [
    {
     "name": "stdout",
     "output_type": "stream",
     "text": [
      "Fitting 20 folds for each of 19 candidates, totalling 380 fits\n"
     ]
    },
    {
     "name": "stderr",
     "output_type": "stream",
     "text": [
      "[Parallel(n_jobs=1)]: Done 380 out of 380 | elapsed:   20.7s finished\n"
     ]
    },
    {
     "data": {
      "text/plain": [
       "GridSearchCV(cv=20, error_score='raise',\n",
       "       estimator=DecisionTreeRegressor(criterion='mse', max_depth=10, max_features=None,\n",
       "           max_leaf_nodes=None, min_impurity_decrease=0.0,\n",
       "           min_impurity_split=None, min_samples_leaf=1,\n",
       "           min_samples_split=2, min_weight_fraction_leaf=0.0,\n",
       "           presort=False, random_state=None, splitter='best'),\n",
       "       fit_params=None, iid=True, n_jobs=1,\n",
       "       param_grid={'max_depth': array([ 1,  2,  3,  4,  5,  6,  7,  8,  9, 10, 11, 12, 13, 14, 15, 16, 17,\n",
       "       18, 19])},\n",
       "       pre_dispatch='2*n_jobs', refit=True, return_train_score='warn',\n",
       "       scoring='explained_variance', verbose=1)"
      ]
     },
     "execution_count": 84,
     "metadata": {},
     "output_type": "execute_result"
    }
   ],
   "source": [
    "dtr_tuning=DecisionTreeRegressor(max_depth=10)\n",
    "gc=GridSearchCV(dtr_tuning,\n",
    "                param_grid={'max_depth':np.arange(1,20)},\n",
    "                scoring='explained_variance',\n",
    "                cv=20,\n",
    "                verbose=1)\n",
    "gc.fit(X,y)"
   ]
  },
  {
   "cell_type": "code",
   "execution_count": 90,
   "metadata": {},
   "outputs": [
    {
     "name": "stdout",
     "output_type": "stream",
     "text": [
      "{'max_depth': 1}\n",
      "test score is 0.03276417337627316\n",
      "train score is 0.03643325737070924\n"
     ]
    }
   ],
   "source": [
    "print(gc.best_params_)\n",
    "print('test score is {}'.format(gc.best_score_))\n",
    "print('train score is {}'.format(gc.best_estimator_.score(X,y)))"
   ]
  },
  {
   "cell_type": "code",
   "execution_count": 80,
   "metadata": {},
   "outputs": [],
   "source": [
    "y_pred=gc.best_estimator_.predict(X)"
   ]
  },
  {
   "cell_type": "code",
   "execution_count": 82,
   "metadata": {},
   "outputs": [
    {
     "data": {
      "text/plain": [
       "<matplotlib.collections.PathCollection at 0x1a237ac1d0>"
      ]
     },
     "execution_count": 82,
     "metadata": {},
     "output_type": "execute_result"
    },
    {
     "data": {
      "image/png": "[encoded data removed]",
      "text/plain": [
       "<Figure size 432x288 with 1 Axes>"
      ]
     },
     "metadata": {},
     "output_type": "display_data"
    }
   ],
   "source": [
    "plt.scatter(y,y_pred)"
   ]
  },
  {
   "cell_type": "code",
   "execution_count": 83,
   "metadata": {},
   "outputs": [
    {
     "data": {
      "text/plain": [
       "<matplotlib.collections.PathCollection at 0x1a18c29898>"
      ]
     },
     "execution_count": 83,
     "metadata": {},
     "output_type": "execute_result"
    },
    {
     "data": {
      "image/png": "[encoded data removed]",
      "text/plain": [
       "<Figure size 432x288 with 1 Axes>"
      ]
     },
     "metadata": {},
     "output_type": "display_data"
    }
   ],
   "source": [
    "plt.scatter(y_pred,y_pred-y)"
   ]
  },
  {
   "cell_type": "markdown",
   "metadata": {},
   "source": [
    "### 2.3 random forest\n",
    "<br> still overfitting\n",
    "<br> but overfitting problem is less severe compared with decision tree regressor since multiple trees are used"
   ]
  },
  {
   "cell_type": "code",
   "execution_count": 92,
   "metadata": {},
   "outputs": [
    {
     "name": "stdout",
     "output_type": "stream",
     "text": [
      "Est. explained variance for training set: 0.73 (+/- 0.01)\n",
      "Est. explained variance for test set: -0.25 (+/- 0.09)\n"
     ]
    }
   ],
   "source": [
    "rfr_no_tuning=RandomForestRegressor(n_estimators=5)\n",
    "kf = KFold(n_splits=10, shuffle=True, random_state=None)\n",
    "train_score=[]\n",
    "test_score=[]\n",
    "for train_index,test_index in kf.split(X):\n",
    "    X_train=X[train_index]\n",
    "    X_test=X[test_index]\n",
    "    y_train=y[train_index]\n",
    "    y_test=y[test_index]\n",
    "    rfr_no_tuning.fit(X_train,y_train)\n",
    "    train_score.append(rfr_no_tuning.score(X_train,y_train))\n",
    "    test_score.append(rfr_no_tuning.score(X_test,y_test))\n",
    "    \n",
    "print(\"Est. explained variance for training set: %0.2f (+/- %0.2f)\" % (np.mean(train_score), np.std(train_score)))\n",
    "print(\"Est. explained variance for test set: %0.2f (+/- %0.2f)\" % (np.mean(test_score), np.std(test_score)))"
   ]
  },
  {
   "cell_type": "code",
   "execution_count": 93,
   "metadata": {},
   "outputs": [],
   "source": [
    "rfr_no_tuning.fit(X,y)\n",
    "t_pred=rfr_no_tuning.predict(X)"
   ]
  },
  {
   "cell_type": "code",
   "execution_count": 94,
   "metadata": {},
   "outputs": [
    {
     "data": {
      "text/plain": [
       "<matplotlib.collections.PathCollection at 0x1a235dfb00>"
      ]
     },
     "execution_count": 94,
     "metadata": {},
     "output_type": "execute_result"
    },
    {
     "data": {
      "image/png": "[encoded data removed]",
      "text/plain": [
       "<Figure size 432x288 with 1 Axes>"
      ]
     },
     "metadata": {},
     "output_type": "display_data"
    }
   ],
   "source": [
    "plt.scatter(y,y_pred)"
   ]
  },
  {
   "cell_type": "markdown",
   "metadata": {},
   "source": [
    "### 2.4 random forest with tuned hyperparameters"
   ]
  },
  {
   "cell_type": "code",
   "execution_count": 100,
   "metadata": {},
   "outputs": [
    {
     "name": "stdout",
     "output_type": "stream",
     "text": [
      "Fitting 5 folds for each of 30 candidates, totalling 150 fits\n"
     ]
    },
    {
     "name": "stderr",
     "output_type": "stream",
     "text": [
      "[Parallel(n_jobs=1)]: Done 150 out of 150 | elapsed:  1.2min finished\n"
     ]
    },
    {
     "data": {
      "text/plain": [
       "GridSearchCV(cv=5, error_score='raise',\n",
       "       estimator=RandomForestRegressor(bootstrap=True, criterion='mse', max_depth=5,\n",
       "           max_features='auto', max_leaf_nodes=None,\n",
       "           min_impurity_decrease=0.0, min_impurity_split=None,\n",
       "           min_samples_leaf=1, min_samples_split=2,\n",
       "           min_weight_fraction_leaf=0.0, n_estimators=5, n_jobs=1,\n",
       "           oob_score=False, random_state=None, verbose=0, warm_start=False),\n",
       "       fit_params=None, iid=True, n_jobs=1,\n",
       "       param_grid={'n_estimators': [5, 10, 15, 25, 35], 'max_depth': [3, 5, 7, 9, 11, 13]},\n",
       "       pre_dispatch='2*n_jobs', refit=True, return_train_score='warn',\n",
       "       scoring='explained_variance', verbose=1)"
      ]
     },
     "execution_count": 100,
     "metadata": {},
     "output_type": "execute_result"
    }
   ],
   "source": [
    "rfr=RandomForestRegressor(n_estimators=5,max_depth=5)\n",
    "gc=GridSearchCV(rfr,\n",
    "               param_grid={'n_estimators':[5,10,15,25,35],'max_depth':[3,5,7,9,11,13]},\n",
    "               scoring='explained_variance',\n",
    "               cv=5,\n",
    "               verbose=1)\n",
    "gc.fit(X,y)"
   ]
  },
  {
   "cell_type": "code",
   "execution_count": 101,
   "metadata": {},
   "outputs": [
    {
     "name": "stdout",
     "output_type": "stream",
     "text": [
      "{'max_depth': 3, 'n_estimators': 35}\n",
      "test score is 0.029151089526037673\n",
      "train score is 0.10131965744193926\n"
     ]
    }
   ],
   "source": [
    "print(gc.best_params_)\n",
    "print('test score is {}'.format(gc.best_score_))\n",
    "print('train score is {}'.format(gc.best_estimator_.score(X,y)))"
   ]
  },
  {
   "cell_type": "code",
   "execution_count": 102,
   "metadata": {},
   "outputs": [],
   "source": [
    "rfr.fit(X,y)\n",
    "t_pred=rfr.predict(X)"
   ]
  },
  {
   "cell_type": "code",
   "execution_count": 103,
   "metadata": {},
   "outputs": [
    {
     "data": {
      "text/plain": [
       "<matplotlib.collections.PathCollection at 0x1a18c37c18>"
      ]
     },
     "execution_count": 103,
     "metadata": {},
     "output_type": "execute_result"
    },
    {
     "data": {
      "image/png": "[encoded data removed]",
      "text/plain": [
       "<Figure size 432x288 with 1 Axes>"
      ]
     },
     "metadata": {},
     "output_type": "display_data"
    }
   ],
   "source": [
    "plt.scatter(y,y_pred)"
   ]
  },
  {
   "cell_type": "markdown",
   "metadata": {},
   "source": [
    "### 2.5 interpretability\n",
    "<br> top important features that influence people's happiness are population composition, employment rate, and the type they are employed/commute to work"
   ]
  },
  {
   "cell_type": "code",
   "execution_count": 110,
   "metadata": {},
   "outputs": [
    {
     "data": {
      "text/html": [
       "<div>\n",
       "<style scoped>\n",
       "    .dataframe tbody tr th:only-of-type {\n",
       "        vertical-align: middle;\n",
       "    }\n",
       "\n",
       "    .dataframe tbody tr th {\n",
       "        vertical-align: top;\n",
       "    }\n",
       "\n",
       "    .dataframe thead th {\n",
       "        text-align: right;\n",
       "    }\n",
       "</style>\n",
       "<table border=\"1\" class=\"dataframe\">\n",
       "  <thead>\n",
       "    <tr style=\"text-align: right;\">\n",
       "      <th></th>\n",
       "      <th>feature</th>\n",
       "      <th>importance</th>\n",
       "    </tr>\n",
       "  </thead>\n",
       "  <tbody>\n",
       "    <tr>\n",
       "      <th>1</th>\n",
       "      <td>Men</td>\n",
       "      <td>0.139265</td>\n",
       "    </tr>\n",
       "    <tr>\n",
       "      <th>2</th>\n",
       "      <td>Women</td>\n",
       "      <td>0.115835</td>\n",
       "    </tr>\n",
       "    <tr>\n",
       "      <th>0</th>\n",
       "      <td>TotalPop</td>\n",
       "      <td>0.114328</td>\n",
       "    </tr>\n",
       "    <tr>\n",
       "      <th>9</th>\n",
       "      <td>Citizen</td>\n",
       "      <td>0.101687</td>\n",
       "    </tr>\n",
       "    <tr>\n",
       "      <th>26</th>\n",
       "      <td>Employed</td>\n",
       "      <td>0.078950</td>\n",
       "    </tr>\n",
       "    <tr>\n",
       "      <th>24</th>\n",
       "      <td>WorkAtHome</td>\n",
       "      <td>0.041842</td>\n",
       "    </tr>\n",
       "    <tr>\n",
       "      <th>31</th>\n",
       "      <td>Unemployment</td>\n",
       "      <td>0.032684</td>\n",
       "    </tr>\n",
       "    <tr>\n",
       "      <th>25</th>\n",
       "      <td>MeanCommute</td>\n",
       "      <td>0.027299</td>\n",
       "    </tr>\n",
       "    <tr>\n",
       "      <th>16</th>\n",
       "      <td>Office</td>\n",
       "      <td>0.026061</td>\n",
       "    </tr>\n",
       "    <tr>\n",
       "      <th>29</th>\n",
       "      <td>SelfEmployed</td>\n",
       "      <td>0.024876</td>\n",
       "    </tr>\n",
       "  </tbody>\n",
       "</table>\n",
       "</div>"
      ],
      "text/plain": [
       "         feature  importance\n",
       "1            Men    0.139265\n",
       "2          Women    0.115835\n",
       "0       TotalPop    0.114328\n",
       "9        Citizen    0.101687\n",
       "26      Employed    0.078950\n",
       "24    WorkAtHome    0.041842\n",
       "31  Unemployment    0.032684\n",
       "25   MeanCommute    0.027299\n",
       "16        Office    0.026061\n",
       "29  SelfEmployed    0.024876"
      ]
     },
     "execution_count": 110,
     "metadata": {},
     "output_type": "execute_result"
    }
   ],
   "source": [
    "df_importance=pd.DataFrame({'feature':df.columns[1:],'importance':gc.best_estimator_.feature_importances_})\n",
    "df_importance.sort_values(by='importance',ascending=False).head(10)"
   ]
  },
  {
   "cell_type": "code",
   "execution_count": null,
   "metadata": {},
   "outputs": [],
   "source": []
  }
 ],
 "metadata": {
  "kernelspec": {
   "display_name": "Python 3",
   "language": "python",
   "name": "python3"
  },
  "language_info": {
   "codemirror_mode": {
    "name": "ipython",
    "version": 3
   },
   "file_extension": ".py",
   "mimetype": "text/x-python",
   "name": "python",
   "nbconvert_exporter": "python",
   "pygments_lexer": "ipython3",
   "version": "3.6.5"
  }
 },
 "nbformat": 4,
 "nbformat_minor": 2
}
